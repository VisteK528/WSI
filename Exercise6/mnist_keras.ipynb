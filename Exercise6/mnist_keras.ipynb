{
 "cells": [
  {
   "cell_type": "code",
   "execution_count": 5,
   "id": "initial_id",
   "metadata": {
    "collapsed": true,
    "ExecuteTime": {
     "end_time": "2023-12-27T16:22:31.887734944Z",
     "start_time": "2023-12-27T16:22:31.878016326Z"
    }
   },
   "outputs": [],
   "source": [
    "from tensorflow.keras.datasets import mnist\n",
    "from tensorflow.keras.layers import Dense\n",
    "from tensorflow.keras.models import Sequential\n",
    "from sklearn.datasets import load_iris\n",
    "from sklearn.model_selection import train_test_split\n",
    "import numpy as np"
   ]
  },
  {
   "cell_type": "code",
   "outputs": [],
   "source": [
    "(train_images, train_labels), (test_images, test_labels) = mnist.load_data()\n",
    "train_images = train_images.reshape((60000, 28*28))\n",
    "train_images = train_images.astype('float32') / 255\n",
    "test_images = test_images.reshape(((10000, 28*28)))\n",
    "test_images = test_images.astype('float32') / 255"
   ],
   "metadata": {
    "collapsed": false,
    "ExecuteTime": {
     "end_time": "2023-12-26T13:29:40.667615834Z",
     "start_time": "2023-12-26T13:29:40.369620818Z"
    }
   },
   "id": "3a1042732fdf290d",
   "execution_count": 4
  },
  {
   "cell_type": "code",
   "outputs": [],
   "source": [
    "model = Sequential([\n",
    "    Dense(784, activation=\"tanh\"),\n",
    "    Dense(16, activation=\"tanh\"),\n",
    "    Dense(10, activation=\"softmax\")\n",
    "])\n",
    "\n",
    "model.compile(optimizer=\"rmsprop\", loss=\"sparse_categorical_crossentropy\", metrics=[\"accuracy\"])"
   ],
   "metadata": {
    "collapsed": false,
    "ExecuteTime": {
     "end_time": "2023-12-26T13:34:06.189682900Z",
     "start_time": "2023-12-26T13:34:06.176091562Z"
    }
   },
   "id": "2132e379484f7145",
   "execution_count": 11
  },
  {
   "cell_type": "code",
   "outputs": [
    {
     "name": "stdout",
     "output_type": "stream",
     "text": [
      "Epoch 1/5\n",
      "469/469 [==============================] - 2s 2ms/step - loss: 0.4962 - accuracy: 0.8795\n",
      "Epoch 2/5\n",
      "469/469 [==============================] - 1s 2ms/step - loss: 0.2295 - accuracy: 0.9360\n",
      "Epoch 3/5\n",
      "469/469 [==============================] - 1s 2ms/step - loss: 0.1528 - accuracy: 0.9566\n",
      "Epoch 4/5\n",
      "469/469 [==============================] - 1s 2ms/step - loss: 0.1148 - accuracy: 0.9663\n",
      "Epoch 5/5\n",
      "469/469 [==============================] - 1s 2ms/step - loss: 0.0893 - accuracy: 0.9741\n"
     ]
    },
    {
     "data": {
      "text/plain": "<keras.callbacks.History at 0x7f756ffdfa30>"
     },
     "execution_count": 12,
     "metadata": {},
     "output_type": "execute_result"
    }
   ],
   "source": [
    "model.fit(train_images, train_labels, epochs=5, batch_size=128)"
   ],
   "metadata": {
    "collapsed": false,
    "ExecuteTime": {
     "end_time": "2023-12-26T13:34:12.809162769Z",
     "start_time": "2023-12-26T13:34:07.365808347Z"
    }
   },
   "id": "752c51270c2b9b61",
   "execution_count": 12
  },
  {
   "cell_type": "code",
   "outputs": [],
   "source": [
    "iris = load_iris()\n",
    "\n",
    "x = iris.data\n",
    "x = x.astype(\"float32\") / np.max(x)\n",
    "y = iris.target\n",
    "x_train, x_test, y_train, y_test = train_test_split(x, y, test_size=0.1)"
   ],
   "metadata": {
    "collapsed": false,
    "ExecuteTime": {
     "end_time": "2023-12-27T16:24:14.125986135Z",
     "start_time": "2023-12-27T16:24:14.076043165Z"
    }
   },
   "id": "963e90196cef3ffd",
   "execution_count": 8
  },
  {
   "cell_type": "code",
   "outputs": [
    {
     "name": "stdout",
     "output_type": "stream",
     "text": [
      "Epoch 1/50\n",
      "34/34 [==============================] - 1s 2ms/step - loss: 1.3274 - accuracy: 0.3481\n",
      "Epoch 2/50\n",
      "34/34 [==============================] - 0s 3ms/step - loss: 1.2384 - accuracy: 0.3481\n",
      "Epoch 3/50\n",
      "34/34 [==============================] - 0s 3ms/step - loss: 1.1877 - accuracy: 0.3481\n",
      "Epoch 4/50\n",
      "34/34 [==============================] - 0s 3ms/step - loss: 1.1526 - accuracy: 0.3481\n",
      "Epoch 5/50\n",
      "34/34 [==============================] - 0s 3ms/step - loss: 1.1245 - accuracy: 0.5333\n",
      "Epoch 6/50\n",
      "34/34 [==============================] - 0s 3ms/step - loss: 1.1021 - accuracy: 0.5111\n",
      "Epoch 7/50\n",
      "34/34 [==============================] - 0s 2ms/step - loss: 1.0812 - accuracy: 0.6000\n",
      "Epoch 8/50\n",
      "34/34 [==============================] - 0s 3ms/step - loss: 1.0618 - accuracy: 0.6000\n",
      "Epoch 9/50\n",
      "34/34 [==============================] - 0s 2ms/step - loss: 1.0422 - accuracy: 0.6370\n",
      "Epoch 10/50\n",
      "34/34 [==============================] - 0s 2ms/step - loss: 1.0187 - accuracy: 0.6815\n",
      "Epoch 11/50\n",
      "34/34 [==============================] - 0s 3ms/step - loss: 0.9930 - accuracy: 0.6074\n",
      "Epoch 12/50\n",
      "34/34 [==============================] - 0s 3ms/step - loss: 0.9671 - accuracy: 0.5037\n",
      "Epoch 13/50\n",
      "34/34 [==============================] - 0s 3ms/step - loss: 0.9394 - accuracy: 0.4963\n",
      "Epoch 14/50\n",
      "34/34 [==============================] - 0s 3ms/step - loss: 0.9100 - accuracy: 0.6148\n",
      "Epoch 15/50\n",
      "34/34 [==============================] - 0s 3ms/step - loss: 0.8797 - accuracy: 0.5852\n",
      "Epoch 16/50\n",
      "34/34 [==============================] - 0s 3ms/step - loss: 0.8473 - accuracy: 0.6741\n",
      "Epoch 17/50\n",
      "34/34 [==============================] - 0s 2ms/step - loss: 0.8156 - accuracy: 0.6667\n",
      "Epoch 18/50\n",
      "34/34 [==============================] - 0s 3ms/step - loss: 0.7824 - accuracy: 0.6667\n",
      "Epoch 19/50\n",
      "34/34 [==============================] - 0s 3ms/step - loss: 0.7499 - accuracy: 0.6667\n",
      "Epoch 20/50\n",
      "34/34 [==============================] - 0s 3ms/step - loss: 0.7177 - accuracy: 0.6667\n",
      "Epoch 21/50\n",
      "34/34 [==============================] - 0s 3ms/step - loss: 0.6876 - accuracy: 0.6963\n",
      "Epoch 22/50\n",
      "34/34 [==============================] - 0s 3ms/step - loss: 0.6594 - accuracy: 0.6741\n",
      "Epoch 23/50\n",
      "34/34 [==============================] - 0s 3ms/step - loss: 0.6314 - accuracy: 0.7185\n",
      "Epoch 24/50\n",
      "34/34 [==============================] - 0s 3ms/step - loss: 0.6063 - accuracy: 0.6741\n",
      "Epoch 25/50\n",
      "34/34 [==============================] - 0s 3ms/step - loss: 0.5818 - accuracy: 0.6963\n",
      "Epoch 26/50\n",
      "34/34 [==============================] - 0s 3ms/step - loss: 0.5593 - accuracy: 0.7037\n",
      "Epoch 27/50\n",
      "34/34 [==============================] - 0s 2ms/step - loss: 0.5390 - accuracy: 0.7037\n",
      "Epoch 28/50\n",
      "34/34 [==============================] - 0s 3ms/step - loss: 0.5205 - accuracy: 0.7185\n",
      "Epoch 29/50\n",
      "34/34 [==============================] - 0s 3ms/step - loss: 0.5035 - accuracy: 0.7778\n",
      "Epoch 30/50\n",
      "34/34 [==============================] - 0s 3ms/step - loss: 0.4881 - accuracy: 0.7926\n",
      "Epoch 31/50\n",
      "34/34 [==============================] - 0s 3ms/step - loss: 0.4745 - accuracy: 0.8370\n",
      "Epoch 32/50\n",
      "34/34 [==============================] - 0s 3ms/step - loss: 0.4618 - accuracy: 0.7852\n",
      "Epoch 33/50\n",
      "34/34 [==============================] - 0s 3ms/step - loss: 0.4502 - accuracy: 0.8593\n",
      "Epoch 34/50\n",
      "34/34 [==============================] - 0s 3ms/step - loss: 0.4389 - accuracy: 0.8593\n",
      "Epoch 35/50\n",
      "34/34 [==============================] - 0s 3ms/step - loss: 0.4281 - accuracy: 0.9111\n",
      "Epoch 36/50\n",
      "34/34 [==============================] - 0s 3ms/step - loss: 0.4179 - accuracy: 0.9111\n",
      "Epoch 37/50\n",
      "34/34 [==============================] - 0s 3ms/step - loss: 0.4088 - accuracy: 0.9481\n",
      "Epoch 38/50\n",
      "34/34 [==============================] - 0s 3ms/step - loss: 0.4003 - accuracy: 0.9111\n",
      "Epoch 39/50\n",
      "34/34 [==============================] - 0s 3ms/step - loss: 0.3924 - accuracy: 0.9259\n",
      "Epoch 40/50\n",
      "34/34 [==============================] - 0s 3ms/step - loss: 0.3845 - accuracy: 0.9630\n",
      "Epoch 41/50\n",
      "34/34 [==============================] - 0s 3ms/step - loss: 0.3761 - accuracy: 0.9481\n",
      "Epoch 42/50\n",
      "34/34 [==============================] - 0s 3ms/step - loss: 0.3679 - accuracy: 0.9481\n",
      "Epoch 43/50\n",
      "34/34 [==============================] - 0s 3ms/step - loss: 0.3608 - accuracy: 0.9630\n",
      "Epoch 44/50\n",
      "34/34 [==============================] - 0s 3ms/step - loss: 0.3526 - accuracy: 0.9630\n",
      "Epoch 45/50\n",
      "34/34 [==============================] - 0s 3ms/step - loss: 0.3447 - accuracy: 0.9630\n",
      "Epoch 46/50\n",
      "34/34 [==============================] - 0s 3ms/step - loss: 0.3370 - accuracy: 0.9704\n",
      "Epoch 47/50\n",
      "34/34 [==============================] - 0s 3ms/step - loss: 0.3306 - accuracy: 0.9630\n",
      "Epoch 48/50\n",
      "34/34 [==============================] - 0s 3ms/step - loss: 0.3222 - accuracy: 0.9630\n",
      "Epoch 49/50\n",
      "34/34 [==============================] - 0s 3ms/step - loss: 0.3152 - accuracy: 0.9704\n",
      "Epoch 50/50\n",
      "34/34 [==============================] - 0s 3ms/step - loss: 0.3082 - accuracy: 0.9630\n"
     ]
    },
    {
     "data": {
      "text/plain": "<keras.callbacks.History at 0x7fbc901f7a30>"
     },
     "execution_count": 30,
     "metadata": {},
     "output_type": "execute_result"
    }
   ],
   "source": [
    "model = Sequential([\n",
    "    Dense(4, activation=\"tanh\"),\n",
    "    Dense(4, activation=\"tanh\"),\n",
    "    Dense(3, activation=\"softmax\")\n",
    "])\n",
    "\n",
    "model.compile(optimizer=\"rmsprop\", loss=\"sparse_categorical_crossentropy\", metrics=[\"accuracy\"])\n",
    "model.fit(x_train, y_train, epochs=50, batch_size=4)"
   ],
   "metadata": {
    "collapsed": false,
    "ExecuteTime": {
     "end_time": "2023-12-27T16:31:26.989102335Z",
     "start_time": "2023-12-27T16:31:21.212747439Z"
    }
   },
   "id": "ae2d793425665113",
   "execution_count": 30
  },
  {
   "cell_type": "code",
   "outputs": [
    {
     "name": "stdout",
     "output_type": "stream",
     "text": [
      "4/4 [==============================] - 0s 3ms/step - loss: 0.3798 - accuracy: 1.0000\n"
     ]
    },
    {
     "data": {
      "text/plain": "[0.3797566592693329, 1.0]"
     },
     "execution_count": 31,
     "metadata": {},
     "output_type": "execute_result"
    }
   ],
   "source": [
    "model.evaluate(x_test, y_test, batch_size=4)"
   ],
   "metadata": {
    "collapsed": false,
    "ExecuteTime": {
     "end_time": "2023-12-27T16:31:29.385874165Z",
     "start_time": "2023-12-27T16:31:29.198957995Z"
    }
   },
   "id": "a67a0bd3b23a68d8",
   "execution_count": 31
  },
  {
   "cell_type": "code",
   "outputs": [],
   "source": [],
   "metadata": {
    "collapsed": false
   },
   "id": "6433a4ce671d3670"
  }
 ],
 "metadata": {
  "kernelspec": {
   "display_name": "Python 3",
   "language": "python",
   "name": "python3"
  },
  "language_info": {
   "codemirror_mode": {
    "name": "ipython",
    "version": 2
   },
   "file_extension": ".py",
   "mimetype": "text/x-python",
   "name": "python",
   "nbconvert_exporter": "python",
   "pygments_lexer": "ipython2",
   "version": "2.7.6"
  }
 },
 "nbformat": 4,
 "nbformat_minor": 5
}
