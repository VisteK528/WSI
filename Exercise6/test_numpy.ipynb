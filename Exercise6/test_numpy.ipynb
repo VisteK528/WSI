{
 "cells": [
  {
   "cell_type": "code",
   "execution_count": 6,
   "id": "initial_id",
   "metadata": {
    "collapsed": true,
    "ExecuteTime": {
     "end_time": "2023-12-28T20:58:09.386808940Z",
     "start_time": "2023-12-28T20:58:09.328634898Z"
    }
   },
   "outputs": [],
   "source": [
    "import numpy as np"
   ]
  },
  {
   "cell_type": "code",
   "outputs": [],
   "source": [
    "first_array = np.array([[11.1, 12.1, 13.1], [21.1, 22.1, 23.1], [31.1, 32.1, 33.1]])\n",
    "second_array = np.array([[11.2, 12.2], [21.2, 22.2], [31.2, 32.2]])\n",
    "third_array = np.array([[11.3, 12.3, 13.3, 14.3], [21.3, 22.3, 23.3, 24.3], [31.3, 32.3, 33.3, 34.3], [41.3, 42.3, 43.3, 44.3], [51.3, 52.3, 53.3, 54.3]])\n"
   ],
   "metadata": {
    "collapsed": false,
    "ExecuteTime": {
     "end_time": "2023-12-28T22:38:23.768954785Z",
     "start_time": "2023-12-28T22:38:23.719800999Z"
    }
   },
   "id": "6c7991bb1c3a65bf",
   "execution_count": 16
  },
  {
   "cell_type": "code",
   "outputs": [],
   "source": [
    "first_flatten = first_array.flatten()\n",
    "second_flatten = second_array.flatten()\n",
    "third_flatten = third_array.flatten()"
   ],
   "metadata": {
    "collapsed": false,
    "ExecuteTime": {
     "end_time": "2023-12-28T22:39:10.380221180Z",
     "start_time": "2023-12-28T22:39:10.337210216Z"
    }
   },
   "id": "ded9cf9e8b181cf7",
   "execution_count": 19
  },
  {
   "cell_type": "code",
   "outputs": [],
   "source": [
    "combined = np.concatenate([first_flatten, second_flatten, third_flatten])"
   ],
   "metadata": {
    "collapsed": false,
    "ExecuteTime": {
     "end_time": "2023-12-28T22:39:34.831796767Z",
     "start_time": "2023-12-28T22:39:34.766121203Z"
    }
   },
   "id": "66bb44b4ed477bd1",
   "execution_count": 20
  },
  {
   "cell_type": "code",
   "outputs": [
    {
     "data": {
      "text/plain": "array([11.1, 12.1, 13.1, 21.1, 22.1, 23.1, 31.1, 32.1, 33.1, 11.2, 12.2,\n       21.2, 22.2, 31.2, 32.2, 11.3, 12.3, 13.3, 14.3, 21.3, 22.3, 23.3,\n       24.3, 31.3, 32.3, 33.3, 34.3, 41.3, 42.3, 43.3, 44.3, 51.3, 52.3,\n       53.3, 54.3])"
     },
     "execution_count": 21,
     "metadata": {},
     "output_type": "execute_result"
    }
   ],
   "source": [
    "combined"
   ],
   "metadata": {
    "collapsed": false,
    "ExecuteTime": {
     "end_time": "2023-12-28T22:39:36.353412535Z",
     "start_time": "2023-12-28T22:39:36.343058042Z"
    }
   },
   "id": "9670a3f738a5d465",
   "execution_count": 21
  },
  {
   "cell_type": "code",
   "outputs": [],
   "source": [
    "# Dimensions of each layer\n",
    "m1, n1 = 3, 3\n",
    "m2, n2 = 3, 2\n",
    "m3, n3 = 5, 4\n",
    "\n",
    "# Calculate the indices to split the weights_vector\n",
    "split_indices = [m1*n1, m1*n1+m2*n2, m1*n1+m2*n2+m3*n3]\n",
    "\n",
    "# Split the weights vector into three parts\n",
    "W1, W2, W3, _ = np.split(combined, split_indices)"
   ],
   "metadata": {
    "collapsed": false,
    "ExecuteTime": {
     "end_time": "2023-12-28T22:51:50.794990792Z",
     "start_time": "2023-12-28T22:51:50.786347438Z"
    }
   },
   "id": "31f7329eb71907a9",
   "execution_count": 44
  },
  {
   "cell_type": "code",
   "outputs": [],
   "source": [
    "W1 = W1.reshape((m1, n1))\n",
    "W2 = W2.reshape((m2, n2))\n",
    "W3 = W3.reshape((m3, n3))"
   ],
   "metadata": {
    "collapsed": false,
    "ExecuteTime": {
     "end_time": "2023-12-28T22:52:23.750212872Z",
     "start_time": "2023-12-28T22:52:23.733552372Z"
    }
   },
   "id": "7f5017119af3565b",
   "execution_count": 47
  },
  {
   "cell_type": "code",
   "outputs": [
    {
     "data": {
      "text/plain": "array([[11.1, 12.1, 13.1],\n       [21.1, 22.1, 23.1],\n       [31.1, 32.1, 33.1]])"
     },
     "execution_count": 48,
     "metadata": {},
     "output_type": "execute_result"
    }
   ],
   "source": [
    "W1"
   ],
   "metadata": {
    "collapsed": false,
    "ExecuteTime": {
     "end_time": "2023-12-28T22:52:24.982177785Z",
     "start_time": "2023-12-28T22:52:24.970843176Z"
    }
   },
   "id": "a31b1a1213985d81",
   "execution_count": 48
  },
  {
   "cell_type": "code",
   "outputs": [
    {
     "data": {
      "text/plain": "array([[11.2, 12.2],\n       [21.2, 22.2],\n       [31.2, 32.2]])"
     },
     "execution_count": 49,
     "metadata": {},
     "output_type": "execute_result"
    }
   ],
   "source": [
    "W2"
   ],
   "metadata": {
    "collapsed": false,
    "ExecuteTime": {
     "end_time": "2023-12-28T22:52:26.906976547Z",
     "start_time": "2023-12-28T22:52:26.897286478Z"
    }
   },
   "id": "5987c0cf1b4ce8d0",
   "execution_count": 49
  },
  {
   "cell_type": "code",
   "outputs": [
    {
     "data": {
      "text/plain": "array([[11.3, 12.3, 13.3, 14.3],\n       [21.3, 22.3, 23.3, 24.3],\n       [31.3, 32.3, 33.3, 34.3],\n       [41.3, 42.3, 43.3, 44.3],\n       [51.3, 52.3, 53.3, 54.3]])"
     },
     "execution_count": 50,
     "metadata": {},
     "output_type": "execute_result"
    }
   ],
   "source": [
    "W3"
   ],
   "metadata": {
    "collapsed": false,
    "ExecuteTime": {
     "end_time": "2023-12-28T22:52:29.401065888Z",
     "start_time": "2023-12-28T22:52:29.375642699Z"
    }
   },
   "id": "d886c422bf19086f",
   "execution_count": 50
  },
  {
   "cell_type": "code",
   "outputs": [],
   "source": [],
   "metadata": {
    "collapsed": false
   },
   "id": "1a707ebb74452ddb"
  }
 ],
 "metadata": {
  "kernelspec": {
   "display_name": "Python 3",
   "language": "python",
   "name": "python3"
  },
  "language_info": {
   "codemirror_mode": {
    "name": "ipython",
    "version": 2
   },
   "file_extension": ".py",
   "mimetype": "text/x-python",
   "name": "python",
   "nbconvert_exporter": "python",
   "pygments_lexer": "ipython2",
   "version": "2.7.6"
  }
 },
 "nbformat": 4,
 "nbformat_minor": 5
}
