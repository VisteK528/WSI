{
 "nbformat": 4,
 "nbformat_minor": 0,
 "metadata": {
  "colab": {
   "provenance": []
  },
  "kernelspec": {
   "name": "python3",
   "language": "python",
   "display_name": "Python 3 (ipykernel)"
  },
  "language_info": {
   "name": "python"
  }
 },
 "cells": [
  {
   "cell_type": "markdown",
   "source": [
    "#Zadanie 4 (7 pkt)\n",
    "Celem zadania jest zaimplementowanie algorytmu drzewa decyzyjnego ID3 dla zadania klasyfikacji. Trening i test należy przeprowadzić dla zbioru Iris. Proszę przeprowadzić eksperymenty najpierw dla DOKŁADNIE takiego podziału zbioru testowego i treningowego jak umieszczony poniżej. W dalszej części należy przeprowadzić analizę działania drzewa dla różnych wartości parametrów. Proszę korzystać z przygotowanego szkieletu programu, oczywiście można go modyfikować według potrzeb. Wszelkie elementy szkieletu zostaną wyjaśnione na zajęciach.\n",
    "\n",
    "* Implementacja funkcji entropii - **0.5 pkt**\n",
    "* Implementacja funkcji entropii zbioru - **0.5 pkt**\n",
    "* Implementacja funkcji information gain - **0.5 pkt**\n",
    "* Zbudowanie poprawnie działającego drzewa klasyfikacyjnego i przetestowanie go na wspomnianym wcześniej zbiorze testowym. Jeśli w liściu występuje kilka różnych klas, decyzją jest klasa większościowa. Policzenie accuracy i wypisanie parami klasy rzeczywistej i predykcji. - **4 pkt**\n",
    "* Przeprowadzenie eksperymentów dla różnych głębokości drzew i podziałów zbioru treningowego i testowego (zmiana wartości argumentu test_size oraz usunięcie random_state). W tym przypadku dla każdego eksperymentu należy wykonać kilka uruchomień programu i wypisać dla każdego uruchomienia accuracy. - **1.5 pkt**"
   ],
   "metadata": {
    "id": "cpar5LziY_-0"
   }
  },
  {
   "cell_type": "code",
   "source": [
    "from sklearn.datasets import load_iris\n",
    "from sklearn.model_selection import train_test_split\n",
    "import math\n",
    "from collections import Counter\n",
    "import numpy as np\n",
    "\n",
    "iris = load_iris()\n",
    "\n",
    "x = iris.data\n",
    "y = iris.target\n",
    "\n",
    "x_train, x_test, y_train, y_test = train_test_split(x, y, test_size=0.1, random_state=123)"
   ],
   "metadata": {
    "id": "XNc-O3npA-J9",
    "ExecuteTime": {
     "end_time": "2023-11-27T09:34:13.440195133Z",
     "start_time": "2023-11-27T09:34:12.727840590Z"
    }
   },
   "execution_count": 1,
   "outputs": []
  },
  {
   "cell_type": "code",
   "execution_count": 2,
   "outputs": [
    {
     "name": "stdout",
     "output_type": "stream",
     "text": [
      "Counter({2: 6, 1: 5, 0: 4})\n",
      "dict_items([(1, 5), (2, 6), (0, 4)])\n"
     ]
    },
    {
     "data": {
      "text/plain": "array([[6.5, 3. , 5.8, 2.2],\n       [5.5, 3.5, 1.3, 0.2],\n       [4.3, 3. , 1.1, 0.1],\n       [6.1, 2.9, 4.7, 1.4],\n       [4.8, 3. , 1.4, 0.3],\n       [5.2, 3.4, 1.4, 0.2],\n       [6.3, 2.8, 5.1, 1.5],\n       [4.8, 3.4, 1.9, 0.2],\n       [6.1, 3. , 4.9, 1.8],\n       [5.1, 3.8, 1.6, 0.2],\n       [5.4, 3.4, 1.7, 0.2],\n       [5.4, 3.4, 1.5, 0.4],\n       [5.6, 2.8, 4.9, 2. ],\n       [7.7, 3.8, 6.7, 2.2],\n       [5. , 3.6, 1.4, 0.2],\n       [7.4, 2.8, 6.1, 1.9],\n       [6. , 2.2, 5. , 1.5],\n       [4.7, 3.2, 1.6, 0.2],\n       [5.1, 3.5, 1.4, 0.2],\n       [6. , 2.2, 4. , 1. ],\n       [5. , 2.3, 3.3, 1. ],\n       [7.9, 3.8, 6.4, 2. ],\n       [5.4, 3.9, 1.7, 0.4],\n       [5.4, 3.9, 1.3, 0.4],\n       [5.8, 2.7, 3.9, 1.2],\n       [5. , 2. , 3.5, 1. ],\n       [5. , 3.2, 1.2, 0.2],\n       [6.8, 3.2, 5.9, 2.3],\n       [6.7, 3. , 5.2, 2.3],\n       [5.8, 2.7, 5.1, 1.9],\n       [5.8, 2.8, 5.1, 2.4],\n       [6.3, 3.4, 5.6, 2.4],\n       [5.5, 2.3, 4. , 1.3],\n       [5.1, 3.8, 1.5, 0.3],\n       [4.4, 3. , 1.3, 0.2],\n       [6.5, 3.2, 5.1, 2. ],\n       [5.1, 3.3, 1.7, 0.5],\n       [4.9, 3.1, 1.5, 0.1],\n       [6.7, 3.1, 4.7, 1.5],\n       [6.1, 3. , 4.6, 1.4],\n       [5.5, 2.5, 4. , 1.3],\n       [5.7, 2.6, 3.5, 1. ],\n       [5.8, 2.7, 5.1, 1.9],\n       [6.7, 3.1, 4.4, 1.4],\n       [6.4, 3.2, 5.3, 2.3],\n       [4.5, 2.3, 1.3, 0.3],\n       [6.7, 3.3, 5.7, 2.1],\n       [5.7, 3. , 4.2, 1.2],\n       [5.1, 3.7, 1.5, 0.4],\n       [4.8, 3.4, 1.6, 0.2],\n       [6.3, 2.9, 5.6, 1.8],\n       [6.4, 2.9, 4.3, 1.3],\n       [7.7, 2.8, 6.7, 2. ],\n       [7.7, 2.6, 6.9, 2.3],\n       [5.1, 3.8, 1.9, 0.4],\n       [6.4, 3.2, 4.5, 1.5],\n       [5.5, 2.4, 3.7, 1. ],\n       [5.9, 3. , 5.1, 1.8],\n       [4.8, 3. , 1.4, 0.1],\n       [7.2, 3. , 5.8, 1.6],\n       [6.3, 3.3, 4.7, 1.6],\n       [7. , 3.2, 4.7, 1.4],\n       [5. , 3. , 1.6, 0.2],\n       [6.4, 2.8, 5.6, 2.1],\n       [6.3, 2.5, 5. , 1.9],\n       [5. , 3.5, 1.6, 0.6],\n       [4.9, 3. , 1.4, 0.2],\n       [6.1, 2.8, 4. , 1.3],\n       [6.5, 2.8, 4.6, 1.5],\n       [6.3, 3.3, 6. , 2.5],\n       [5.8, 4. , 1.2, 0.2],\n       [4.6, 3.4, 1.4, 0.3],\n       [5.5, 2.4, 3.8, 1.1],\n       [5. , 3.4, 1.6, 0.4],\n       [5.9, 3.2, 4.8, 1.8],\n       [6.9, 3.1, 5.4, 2.1],\n       [4.8, 3.1, 1.6, 0.2],\n       [6.7, 2.5, 5.8, 1.8],\n       [5.7, 4.4, 1.5, 0.4],\n       [5.7, 3.8, 1.7, 0.3],\n       [6.7, 3. , 5. , 1.7],\n       [4.6, 3.6, 1. , 0.2],\n       [5.4, 3.7, 1.5, 0.2],\n       [6.6, 2.9, 4.6, 1.3],\n       [7.3, 2.9, 6.3, 1.8],\n       [6.6, 3. , 4.4, 1.4],\n       [5.6, 2.9, 3.6, 1.3],\n       [5.6, 2.5, 3.9, 1.1],\n       [4.6, 3.1, 1.5, 0.2],\n       [5. , 3.5, 1.3, 0.3],\n       [6.8, 2.8, 4.8, 1.4],\n       [6.1, 2.6, 5.6, 1.4],\n       [4.9, 3.1, 1.5, 0.2],\n       [5.2, 3.5, 1.5, 0.2],\n       [5.6, 2.7, 4.2, 1.3],\n       [6. , 3.4, 4.5, 1.6],\n       [6.2, 2.9, 4.3, 1.3],\n       [7.1, 3. , 5.9, 2.1],\n       [6.9, 3.1, 4.9, 1.5],\n       [5.8, 2.6, 4. , 1.2],\n       [5.7, 2.8, 4.1, 1.3],\n       [7.6, 3. , 6.6, 2.1],\n       [5. , 3.4, 1.5, 0.2],\n       [5.3, 3.7, 1.5, 0.2],\n       [5.9, 3. , 4.2, 1.5],\n       [6.9, 3.2, 5.7, 2.3],\n       [6.4, 3.1, 5.5, 1.8],\n       [7.2, 3.2, 6. , 1.8],\n       [6.5, 3. , 5.2, 2. ],\n       [5.1, 3.4, 1.5, 0.2],\n       [5.4, 3. , 4.5, 1.5],\n       [4.7, 3.2, 1.3, 0.2],\n       [5.8, 2.7, 4.1, 1. ],\n       [5.7, 2.8, 4.5, 1.3],\n       [5. , 3.3, 1.4, 0.2],\n       [6.2, 2.2, 4.5, 1.5],\n       [6.7, 3.1, 5.6, 2.4],\n       [6. , 2.9, 4.5, 1.5],\n       [6.7, 3.3, 5.7, 2.5],\n       [6.4, 2.7, 5.3, 1.9],\n       [5.2, 4.1, 1.5, 0.1],\n       [6.1, 2.8, 4.7, 1.2],\n       [4.6, 3.2, 1.4, 0.2],\n       [6.2, 3.4, 5.4, 2.3],\n       [5.7, 2.5, 5. , 2. ],\n       [5.7, 2.9, 4.2, 1.3],\n       [4.9, 2.4, 3.3, 1. ],\n       [6.3, 2.7, 4.9, 1.8],\n       [4.9, 2.5, 4.5, 1.7],\n       [6. , 2.7, 5.1, 1.6],\n       [5.1, 3.5, 1.4, 0.3],\n       [5.1, 2.5, 3. , 1.1],\n       [5.6, 3. , 4.5, 1.5],\n       [6.2, 2.8, 4.8, 1.8],\n       [7.2, 3.6, 6.1, 2.5]])"
     },
     "execution_count": 2,
     "metadata": {},
     "output_type": "execute_result"
    }
   ],
   "source": [
    "x = Counter(y_test)\n",
    "print(x)\n",
    "print(x.items())\n",
    "y_test.size"
   ],
   "metadata": {
    "collapsed": false,
    "ExecuteTime": {
     "end_time": "2023-11-27T09:46:43.983612802Z",
     "start_time": "2023-11-27T09:46:43.937511505Z"
    }
   }
  },
  {
   "cell_type": "code",
   "source": [
    "def entropy_func(class_count, num_samples):\n",
    "    probability = class_count / num_samples\n",
    "    entropy = - probability * np.log(probability)\n",
    "    return entropy\n",
    "\n",
    "class Group:\n",
    "    def __init__(self, group_classes):\n",
    "        self.group_classes = group_classes\n",
    "        self.entropy = self.group_entropy()\n",
    "\n",
    "    def __len__(self):\n",
    "        return self.group_classes.size\n",
    "\n",
    "    def group_entropy(self):\n",
    "        entropy = 0\n",
    "        class_counts = Counter(self.group_classes)\n",
    "        for group_class, group_class_count in class_counts.items():\n",
    "            entropy += entropy_func(group_class_count, len(self))\n",
    "        return entropy\n",
    "\n",
    "\n",
    "class Node:\n",
    "    def __init__(self, split_feature, split_val, depth=None, child_node_a=None, child_node_b=None, val=None):\n",
    "        self.split_feature = split_feature\n",
    "        self.split_val = split_val\n",
    "        self.depth = depth\n",
    "        self.child_node_a = child_node_a\n",
    "        self.child_node_b = child_node_b\n",
    "        self.val = val\n",
    "\n",
    "    def predict(self, data):\n",
    "        pass\n",
    "\n",
    "\n",
    "class DecisionTreeClassifier(object):\n",
    "    def __init__(self, max_depth):\n",
    "        self.depth = 0\n",
    "        self.max_depth = max_depth\n",
    "        self.tree = None\n",
    "\n",
    "    @staticmethod\n",
    "    def get_split_entropy(group_a: Group, group_b: Group):\n",
    "        split_entropy = 0\n",
    "        parent_group_count = len(group_a) + len(group_b)\n",
    "        child_groups = [group_a, group_b]\n",
    "        for group in child_groups:\n",
    "            split_entropy += (len(group)/parent_group_count) * group.group_entropy()\n",
    "\n",
    "    def get_information_gain(self, parent_group: Group, child_group_a: Group, child_group_b: Group):\n",
    "        information_gain = parent_group.group_entropy() - self.get_split_entropy(child_group_a, child_group_b)\n",
    "        return information_gain\n",
    "\n",
    "    def get_best_feature_split(self, feature_values, classes):\n",
    "        pass\n",
    "\n",
    "    def get_best_split(self, data, classes):\n",
    "        pass\n",
    "\n",
    "    def build_tree(self, data, classes, depth=0):\n",
    "\n",
    "        pass\n",
    "\n",
    "    def predict(self, data):\n",
    "        return self.tree.predict(data)"
   ],
   "metadata": {
    "id": "fBh2tfQ44u5k",
    "ExecuteTime": {
     "end_time": "2023-11-27T10:01:35.060461293Z",
     "start_time": "2023-11-27T10:01:35.052025437Z"
    }
   },
   "execution_count": 10,
   "outputs": []
  },
  {
   "cell_type": "code",
   "source": [
    "dc = DecisionTreeClassifier(3)\n",
    "dc.build_tree(x_train, y_train)\n",
    "for sample, gt in zip(x_test, y_test):\n",
    "    prediction = dc.predict(sample)"
   ],
   "metadata": {
    "id": "U033RY1_YS8x"
   },
   "execution_count": null,
   "outputs": []
  }
 ]
}
