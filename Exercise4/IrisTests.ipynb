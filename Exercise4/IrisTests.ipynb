{
 "cells": [
  {
   "cell_type": "code",
   "execution_count": 1,
   "id": "initial_id",
   "metadata": {
    "collapsed": true,
    "ExecuteTime": {
     "end_time": "2023-11-28T09:29:24.194330997Z",
     "start_time": "2023-11-28T09:29:23.621238522Z"
    }
   },
   "outputs": [],
   "source": [
    "from sklearn.datasets import load_iris\n",
    "from sklearn.model_selection import train_test_split\n",
    "import math\n",
    "from collections import Counter\n",
    "import numpy as np\n",
    "\n",
    "iris = load_iris()\n",
    "\n",
    "x = iris.data\n",
    "y = iris.target\n",
    "\n",
    "x_train, x_test, y_train, y_test = train_test_split(x, y, test_size=0.1, random_state=123)"
   ]
  },
  {
   "cell_type": "code",
   "execution_count": 3,
   "outputs": [],
   "source": [
    "def entropy_func(class_count, num_samples):\n",
    "    probability = class_count / num_samples\n",
    "    entropy = - probability * np.log(probability)\n",
    "    return entropy\n",
    "\n",
    "class Group:\n",
    "    def __init__(self, group_classes):\n",
    "        self.group_classes = group_classes\n",
    "        self.entropy = self.group_entropy()\n",
    "\n",
    "    def __len__(self):\n",
    "        return self.group_classes.size\n",
    "\n",
    "    def group_entropy(self):\n",
    "        entropy = 0\n",
    "        class_counts = Counter(self.group_classes)\n",
    "        for group_class, group_class_count in class_counts.items():\n",
    "            entropy += entropy_func(group_class_count, len(self))\n",
    "        return entropy\n",
    "\n",
    "\n",
    "class Node:\n",
    "    def __init__(self, split_feature, split_val, depth=None, child_node_a=None, child_node_b=None, val=None):\n",
    "        self.split_feature = split_feature\n",
    "        self.split_val = split_val\n",
    "        self.depth = depth\n",
    "        self.child_node_a = child_node_a\n",
    "        self.child_node_b = child_node_b\n",
    "        self.val = val\n",
    "\n",
    "    def predict(self, data):\n",
    "        pass\n",
    "\n",
    "\n",
    "class DecisionTreeClassifier(object):\n",
    "    def __init__(self, max_depth):\n",
    "        self.depth = 0\n",
    "        self.max_depth = max_depth\n",
    "        self.tree = None\n",
    "\n",
    "    @staticmethod\n",
    "    def get_split_entropy(group_a: Group, group_b: Group):\n",
    "        split_entropy = 0\n",
    "        parent_group_count = len(group_a) + len(group_b)\n",
    "        child_groups = [group_a, group_b]\n",
    "        for group in child_groups:\n",
    "            split_entropy += (len(group)/parent_group_count) * group.group_entropy()\n",
    "\n",
    "    def get_information_gain(self, parent_group: Group, child_group_a: Group, child_group_b: Group):\n",
    "        information_gain = parent_group.group_entropy() - self.get_split_entropy(child_group_a, child_group_b)\n",
    "        return information_gain\n",
    "\n",
    "    def get_best_feature_split(self, feature_values, classes):\n",
    "        pass\n",
    "\n",
    "    def get_best_split(self, data, classes):\n",
    "        pass\n",
    "\n",
    "    def build_tree(self, data, classes, depth=0):\n",
    "\n",
    "        pass\n",
    "\n",
    "    def predict(self, data):\n",
    "        return self.tree.predict(data)"
   ],
   "metadata": {
    "collapsed": false,
    "ExecuteTime": {
     "end_time": "2023-11-28T09:29:33.900512311Z",
     "start_time": "2023-11-28T09:29:33.895720039Z"
    }
   },
   "id": "77d217393fa9deb7"
  },
  {
   "cell_type": "code",
   "execution_count": 51,
   "outputs": [],
   "source": [
    "def get_split_entropy(group_a: Group, group_b: Group):\n",
    "        split_entropy = 0\n",
    "        parent_group_count = len(group_a) + len(group_b)\n",
    "        child_groups = [group_a, group_b]\n",
    "        for group in child_groups:\n",
    "            split_entropy += (len(group)/parent_group_count) * group.group_entropy()\n",
    "        return split_entropy\n",
    "\n",
    "def get_information_gain(parent_group: Group, child_group_a: Group, child_group_b: Group):\n",
    "    information_gain = parent_group.group_entropy() - get_split_entropy(child_group_a, child_group_b)\n",
    "    return information_gain\n",
    "\n",
    "def split(data, classes, split_feature, split_val):\n",
    "    dataset = np.c_[data, classes]\n",
    "    feature_column = dataset[:, split_feature].astype(int)\n",
    "    mask = feature_column > split_val\n",
    "    \n",
    "    child_a = dataset[mask]\n",
    "    child_b = dataset[~mask]\n",
    "    return child_a, child_b\n",
    "\n",
    "def get_best_feature_split(feature_values, classes):\n",
    "        parent = Group(classes)\n",
    "        possible_thresholds = np.unique(feature_values)\n",
    "        best_split_val = 0\n",
    "        best_gain = 0\n",
    "        \n",
    "        for threshold in possible_thresholds:\n",
    "            child_a, child_b = split(feature_values, classes, 0, threshold)\n",
    "            child_a = Group(child_a[:, -1])\n",
    "            child_b = Group(child_b[:, -1])\n",
    "            gain = get_information_gain(parent, child_a, child_b)\n",
    "            \n",
    "            if gain > best_gain:\n",
    "                best_gain = gain\n",
    "                best_split_val = threshold\n",
    "        return best_split_val"
   ],
   "metadata": {
    "collapsed": false,
    "ExecuteTime": {
     "end_time": "2023-11-28T09:52:06.683682542Z",
     "start_time": "2023-11-28T09:52:06.635285247Z"
    }
   },
   "id": "3100ee7ac764631e"
  },
  {
   "cell_type": "code",
   "execution_count": 14,
   "outputs": [],
   "source": [
    "data = np.transpose(np.array([[\"A\", \"B\", \"B\", \"B\", \"B\"], [1, 1, 2, 2, 3]]))\n",
    "classes = np.array([0, 1, 1, 0, 1])"
   ],
   "metadata": {
    "collapsed": false,
    "ExecuteTime": {
     "end_time": "2023-11-28T09:32:36.687856257Z",
     "start_time": "2023-11-28T09:32:36.639877692Z"
    }
   },
   "id": "e9c7b6551ebc5156"
  },
  {
   "cell_type": "code",
   "execution_count": 54,
   "outputs": [
    {
     "name": "stdout",
     "output_type": "stream",
     "text": [
      "2\n"
     ]
    }
   ],
   "source": [
    "split_val = get_best_feature_split(data[:, 1].astype(int), classes.astype(int))\n",
    "print(split_val)"
   ],
   "metadata": {
    "collapsed": false,
    "ExecuteTime": {
     "end_time": "2023-11-28T09:52:16.595557956Z",
     "start_time": "2023-11-28T09:52:16.584129508Z"
    }
   },
   "id": "7bffc9a3d88e9f1e"
  },
  {
   "cell_type": "code",
   "execution_count": 39,
   "outputs": [],
   "source": [
    "child_a, child_b = split(data, classes, 1, 2)"
   ],
   "metadata": {
    "collapsed": false,
    "ExecuteTime": {
     "end_time": "2023-11-28T09:45:10.800669814Z",
     "start_time": "2023-11-28T09:45:10.794601890Z"
    }
   },
   "id": "f130b571d031c246"
  },
  {
   "cell_type": "code",
   "execution_count": 40,
   "outputs": [
    {
     "data": {
      "text/plain": "(array([['B', '3', '1']], dtype='<U21'),\n array([['A', '1', '0'],\n        ['B', '1', '1'],\n        ['B', '2', '1'],\n        ['B', '2', '0']], dtype='<U21'))"
     },
     "execution_count": 40,
     "metadata": {},
     "output_type": "execute_result"
    }
   ],
   "source": [
    "child_a, child_b"
   ],
   "metadata": {
    "collapsed": false,
    "ExecuteTime": {
     "end_time": "2023-11-28T09:45:16.989284151Z",
     "start_time": "2023-11-28T09:45:16.977677483Z"
    }
   },
   "id": "e9e07723c1187530"
  },
  {
   "cell_type": "code",
   "execution_count": 24,
   "outputs": [],
   "source": [
    "result = np.c_[data, classes]"
   ],
   "metadata": {
    "collapsed": false,
    "ExecuteTime": {
     "end_time": "2023-11-28T09:35:39.708662156Z",
     "start_time": "2023-11-28T09:35:39.698791263Z"
    }
   },
   "id": "a2d367ae47f9cf92"
  },
  {
   "cell_type": "code",
   "execution_count": 25,
   "outputs": [
    {
     "data": {
      "text/plain": "array([['A', '1', '0'],\n       ['B', '1', '1'],\n       ['B', '2', '1'],\n       ['B', '2', '0'],\n       ['B', '3', '1']], dtype='<U21')"
     },
     "execution_count": 25,
     "metadata": {},
     "output_type": "execute_result"
    }
   ],
   "source": [
    "result"
   ],
   "metadata": {
    "collapsed": false,
    "ExecuteTime": {
     "end_time": "2023-11-28T09:35:41.113708195Z",
     "start_time": "2023-11-28T09:35:41.103165495Z"
    }
   },
   "id": "be939f5211c042e3"
  },
  {
   "cell_type": "code",
   "execution_count": 28,
   "outputs": [],
   "source": [
    "result = result[result[:, 1].argsort()][::-1]"
   ],
   "metadata": {
    "collapsed": false,
    "ExecuteTime": {
     "end_time": "2023-11-28T09:39:07.555979289Z",
     "start_time": "2023-11-28T09:39:07.515493244Z"
    }
   },
   "id": "26e9c28aa967f80f"
  },
  {
   "cell_type": "code",
   "execution_count": 29,
   "outputs": [
    {
     "data": {
      "text/plain": "array([['B', '3', '1'],\n       ['B', '2', '0'],\n       ['B', '2', '1'],\n       ['B', '1', '1'],\n       ['A', '1', '0']], dtype='<U21')"
     },
     "execution_count": 29,
     "metadata": {},
     "output_type": "execute_result"
    }
   ],
   "source": [
    "result"
   ],
   "metadata": {
    "collapsed": false,
    "ExecuteTime": {
     "end_time": "2023-11-28T09:39:08.213899545Z",
     "start_time": "2023-11-28T09:39:08.205793920Z"
    }
   },
   "id": "ed30dd7b49f50914"
  },
  {
   "cell_type": "code",
   "execution_count": 37,
   "outputs": [],
   "source": [
    "my_general_group = Group(classes)\n",
    "split1 = Group(np.array([classes[0]]))\n",
    "split2 = Group(classes[1:])"
   ],
   "metadata": {
    "collapsed": false,
    "ExecuteTime": {
     "end_time": "2023-11-27T22:56:47.001214278Z",
     "start_time": "2023-11-27T22:56:46.957783344Z"
    }
   },
   "id": "f6f16a1d5a3ae3c4"
  },
  {
   "cell_type": "code",
   "execution_count": 43,
   "outputs": [
    {
     "data": {
      "text/plain": "0.5623351446188083"
     },
     "execution_count": 43,
     "metadata": {},
     "output_type": "execute_result"
    }
   ],
   "source": [
    "my_general_group.group_entropy()\n",
    "split1.group_entropy()\n",
    "split2.group_entropy()"
   ],
   "metadata": {
    "collapsed": false,
    "ExecuteTime": {
     "end_time": "2023-11-27T22:57:46.329798369Z",
     "start_time": "2023-11-27T22:57:46.322703823Z"
    }
   },
   "id": "aef86b58e2e286da"
  },
  {
   "cell_type": "code",
   "execution_count": 45,
   "outputs": [
    {
     "data": {
      "text/plain": "0.22314355131420988"
     },
     "execution_count": 45,
     "metadata": {},
     "output_type": "execute_result"
    }
   ],
   "source": [
    "get_information_gain(my_general_group, split1, split2)"
   ],
   "metadata": {
    "collapsed": false,
    "ExecuteTime": {
     "end_time": "2023-11-27T22:58:14.653793176Z",
     "start_time": "2023-11-27T22:58:14.647380744Z"
    }
   },
   "id": "4b1c67860bb599fa"
  },
  {
   "cell_type": "code",
   "execution_count": null,
   "outputs": [],
   "source": [
    "split3 = Group(np.array([classes[0]]))\n",
    "split4 = Group(classes[1:])"
   ],
   "metadata": {
    "collapsed": false
   },
   "id": "acb771d9607c8d06"
  },
  {
   "cell_type": "code",
   "execution_count": 46,
   "outputs": [
    {
     "data": {
      "text/plain": "(135, 4)"
     },
     "execution_count": 46,
     "metadata": {},
     "output_type": "execute_result"
    }
   ],
   "source": [
    "x_train.shape"
   ],
   "metadata": {
    "collapsed": false,
    "ExecuteTime": {
     "end_time": "2023-11-27T23:05:11.601359568Z",
     "start_time": "2023-11-27T23:05:11.560280561Z"
    }
   },
   "id": "e813ae21b66108f9"
  },
  {
   "cell_type": "code",
   "execution_count": null,
   "outputs": [],
   "source": [],
   "metadata": {
    "collapsed": false
   },
   "id": "9f7c55dce166708f"
  }
 ],
 "metadata": {
  "kernelspec": {
   "display_name": "Python 3",
   "language": "python",
   "name": "python3"
  },
  "language_info": {
   "codemirror_mode": {
    "name": "ipython",
    "version": 2
   },
   "file_extension": ".py",
   "mimetype": "text/x-python",
   "name": "python",
   "nbconvert_exporter": "python",
   "pygments_lexer": "ipython2",
   "version": "2.7.6"
  }
 },
 "nbformat": 4,
 "nbformat_minor": 5
}
