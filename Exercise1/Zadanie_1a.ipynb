{
 "cells": [
  {
   "cell_type": "markdown",
   "source": [
    "#Zadanie 1a (3 pkt)\n",
    "Celem zadania jest rozwiązanie problemu plecakowego dwoma metodami - brute force oraz według zadanej heurystyki. Należy zaimplementować metody klasy *KnapSack* - *solve_knapsack_brute_force* oraz *solve_knapsack_pw_ratio*. Poprzez rozwiązanie problemu rozumiemy podanie które przedmioty (indeksy w tablicy) należy spakować do plecaka oraz jaka jest sumaryczna wartość i masa plecaka. Punktacja wygląda następująco:\n",
    "\n",
    "\n",
    "*   Rozwiązanie problemu metodą brute force. *Podpowiedź: do wygenerowania wszystkich permutacji można użyć funkcji product z biblioteki itertools* - **1.5 pkt**\n",
    "*   Rozwiązanie problemu według heurystyki - do plecaka pakujemy przedmioty według stosunku wartości do wagi - **1 pkt**\n",
    "*   Dla metody brute force proszę wygenerować wykres zależności czasu wykonywania metody od liczby elementów w tablicach *weights* i *profits* (do obu tablic należy stopniowo dopisywać po jednym elemencie, np. 10-krotnie, wartości elementów nie mają znaczenia). Proszę również odpowiedzieć na pytania (w osobnej komórce tekstowej) - czy obie metody mają takie same rozwiązania? Jakie są Pani / Pana wnioski? - **0.5 pkt**\n",
    "\n",
    "\n"
   ],
   "metadata": {
    "id": "88lxDms-saqt"
   }
  },
  {
   "cell_type": "code",
   "source": [
    "import numpy as np\n",
    "from itertools import product\n",
    "!nvidia-smi"
   ],
   "outputs": [
    {
     "name": "stdout",
     "output_type": "stream",
     "text": [
      "fish: Unknown command: nvidia-smi\r\n",
      "fish: \r\n",
      "nvidia-smi\r\n",
      "^~~~~~~~~^\r\n"
     ]
    }
   ],
   "execution_count": 141,
   "metadata": {
    "id": "1X0PiYKZ2w63",
    "colab": {
     "base_uri": "https://localhost:8080/"
    },
    "outputId": "21bf4878-b9bb-4274-91c7-ee50d91355cc"
   }
  },
  {
   "cell_type": "code",
   "source": [
    "weights = np.array([8, 3, 5, 2])\n",
    "capacity = 9\n",
    "profits = np.array([16, 8, 9, 6])"
   ],
   "outputs": [],
   "execution_count": 142,
   "metadata": {
    "id": "_IOCNGpCuy8s"
   }
  },
  {
   "cell_type": "code",
   "source": [
    "class KnapSack:\n",
    "  def __init__(self, profits, weights, capacity):\n",
    "    self.profits = profits\n",
    "    self.weights = weights\n",
    "    self.capacity = capacity\n",
    "\n",
    "  def solve_knapsack_brute_force(self):\n",
    "    items = product([0, 1], repeat=len(weights))\n",
    "    best_permutation = None\n",
    "    best_profit, best_weight = 0, 0\n",
    "    for permutation in items:\n",
    "        profit = sum([self.profits[i] for i, value in enumerate(permutation) if value == 1])\n",
    "        weight = sum([self.weights[i] for i, value in enumerate(permutation) if value == 1])\n",
    "        if profit > best_profit and weight <= self.capacity:\n",
    "          best_permutation = permutation\n",
    "          best_profit = profit\n",
    "          best_weight = weight\n",
    "    return best_permutation, best_profit, best_weight\n",
    "\n",
    "  def solve_knapsack_pw_ratio(self):\n",
    "    items = [0 for _ in range(len(weights))]\n",
    "    profit, weight = 0, 0\n",
    "    ratios = sorted([(i, item[0]/item[1]) for i, item in enumerate(zip(self.profits, self.weights))], key=lambda x: x[1], reverse=True)\n",
    "    for i, _ in ratios:\n",
    "      if weight + weights[i] < self.capacity:\n",
    "        weight += weights[i]\n",
    "        profit += profits[i]\n",
    "        items[i] = 1\n",
    "\n",
    "    return items, profit, weight"
   ],
   "outputs": [],
   "execution_count": 143,
   "metadata": {
    "id": "s5J82x9WuSOh"
   }
  },
  {
   "cell_type": "code",
   "execution_count": 144,
   "outputs": [],
   "source": [
    "sack = KnapSack(profits, weights, capacity)"
   ],
   "metadata": {
    "collapsed": false
   }
  },
  {
   "cell_type": "code",
   "execution_count": 145,
   "outputs": [],
   "source": [
    "permutation, profit, weight = sack.solve_knapsack_brute_force()"
   ],
   "metadata": {
    "collapsed": false
   }
  },
  {
   "cell_type": "code",
   "execution_count": 146,
   "outputs": [
    {
     "name": "stdout",
     "output_type": "stream",
     "text": [
      "(0, 1, 1, 0)\n",
      "17\n",
      "8\n"
     ]
    }
   ],
   "source": [
    "print(permutation)\n",
    "print(profit)\n",
    "print(weight)"
   ],
   "metadata": {
    "collapsed": false
   }
  },
  {
   "cell_type": "code",
   "execution_count": 147,
   "outputs": [
    {
     "name": "stdout",
     "output_type": "stream",
     "text": [
      "[(3, 3.0), (1, 2.6666666666666665), (0, 2.0), (2, 1.8)]\n"
     ]
    }
   ],
   "source": [
    "permutation, profit, weight = sack.solve_knapsack_pw_ratio()"
   ],
   "metadata": {
    "collapsed": false
   }
  },
  {
   "cell_type": "code",
   "execution_count": 148,
   "outputs": [
    {
     "name": "stdout",
     "output_type": "stream",
     "text": [
      "[0, 1, 0, 1]\n",
      "14\n",
      "5\n"
     ]
    }
   ],
   "source": [
    "print(permutation)\n",
    "print(profit)\n",
    "print(weight)"
   ],
   "metadata": {
    "collapsed": false
   }
  }
 ],
 "metadata": {
  "colab": {
   "provenance": []
  },
  "kernelspec": {
   "name": "python3",
   "display_name": "Python 3"
  },
  "language_info": {
   "name": "python"
  },
  "accelerator": "GPU",
  "nteract": {
   "version": "nteract-front-end@1.0.0"
  }
 },
 "nbformat": 4,
 "nbformat_minor": 0
}
