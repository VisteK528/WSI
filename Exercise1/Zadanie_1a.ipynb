{
 "cells": [
  {
   "cell_type": "markdown",
   "source": [
    "#Zadanie 1a (3 pkt)\n",
    "Celem zadania jest rozwiązanie problemu plecakowego dwoma metodami - brute force oraz według zadanej heurystyki. Należy zaimplementować metody klasy *KnapSack* - *solve_knapsack_brute_force* oraz *solve_knapsack_pw_ratio*. Poprzez rozwiązanie problemu rozumiemy podanie które przedmioty (indeksy w tablicy) należy spakować do plecaka oraz jaka jest sumaryczna wartość i masa plecaka. Punktacja wygląda następująco:\n",
    "\n",
    "\n",
    "*   Rozwiązanie problemu metodą brute force. *Podpowiedź: do wygenerowania wszystkich permutacji można użyć funkcji product z biblioteki itertools* - **1.5 pkt**\n",
    "*   Rozwiązanie problemu według heurystyki - do plecaka pakujemy przedmioty według stosunku wartości do wagi - **1 pkt**\n",
    "*   Dla metody brute force proszę wygenerować wykres zależności czasu wykonywania metody od liczby elementów w tablicach *weights* i *profits* (do obu tablic należy stopniowo dopisywać po jednym elemencie, np. 10-krotnie, wartości elementów nie mają znaczenia). Proszę również odpowiedzieć na pytania (w osobnej komórce tekstowej) - czy obie metody mają takie same rozwiązania? Jakie są Pani / Pana wnioski? - **0.5 pkt**\n",
    "\n",
    "\n"
   ],
   "metadata": {
    "id": "88lxDms-saqt"
   }
  },
  {
   "cell_type": "code",
   "source": [
    "import numpy as np\n",
    "from itertools import product\n",
    "import time\n",
    "import matplotlib.pyplot as plt\n",
    "from random import randint\n",
    "!nvidia-smi"
   ],
   "outputs": [
    {
     "name": "stdout",
     "output_type": "stream",
     "text": [
      "Thu Oct 12 09:05:58 2023       \r\n",
      "+---------------------------------------------------------------------------------------+\r\n",
      "| NVIDIA-SMI 530.30.02              Driver Version: 530.30.02    CUDA Version: 12.1     |\r\n",
      "|-----------------------------------------+----------------------+----------------------+\r\n",
      "| GPU  Name                  Persistence-M| Bus-Id        Disp.A | Volatile Uncorr. ECC |\r\n",
      "| Fan  Temp  Perf            Pwr:Usage/Cap|         Memory-Usage | GPU-Util  Compute M. |\r\n",
      "|                                         |                      |               MIG M. |\r\n",
      "|=========================================+======================+======================|\r\n",
      "|   0  NVIDIA GeForce RTX 2070 S...    On | 00000000:01:00.0 Off |                  N/A |\r\n",
      "| N/A   36C    P0               15W / 115W|      5MiB /  8192MiB |      0%      Default |\r\n",
      "|                                         |                      |                  N/A |\r\n",
      "+-----------------------------------------+----------------------+----------------------+\r\n",
      "                                                                                         \r\n",
      "+---------------------------------------------------------------------------------------+\r\n",
      "| Processes:                                                                            |\r\n",
      "|  GPU   GI   CI        PID   Type   Process name                            GPU Memory |\r\n",
      "|        ID   ID                                                             Usage      |\r\n",
      "|=======================================================================================|\r\n",
      "|    0   N/A  N/A      1244      G   /usr/lib/xorg/Xorg                            4MiB |\r\n",
      "+---------------------------------------------------------------------------------------+\r\n"
     ]
    }
   ],
   "execution_count": 2,
   "metadata": {
    "id": "1X0PiYKZ2w63",
    "colab": {
     "base_uri": "https://localhost:8080/"
    },
    "outputId": "21bf4878-b9bb-4274-91c7-ee50d91355cc",
    "ExecuteTime": {
     "end_time": "2023-10-12T07:05:59.031452267Z",
     "start_time": "2023-10-12T07:05:56.844595788Z"
    }
   }
  },
  {
   "cell_type": "code",
   "source": [
    "weights = np.array([8, 3, 5, 2])\n",
    "capacity = 9\n",
    "profits = np.array([16, 8, 9, 6])"
   ],
   "outputs": [],
   "execution_count": 3,
   "metadata": {
    "id": "_IOCNGpCuy8s",
    "ExecuteTime": {
     "end_time": "2023-10-12T07:05:59.038352654Z",
     "start_time": "2023-10-12T07:05:59.033446353Z"
    }
   }
  },
  {
   "cell_type": "code",
   "source": [
    "class KnapSack:\n",
    "  def __init__(self, profits, weights, capacity):\n",
    "    self.profits = profits\n",
    "    self.weights = weights\n",
    "    self.capacity = capacity\n",
    "\n",
    "  def solve_knapsack_brute_force(self):\n",
    "    items = product([0, 1], repeat=len(weights))\n",
    "    best_permutation = None\n",
    "    best_profit, best_weight = 0, 0\n",
    "    for permutation in items:\n",
    "        profit = sum([self.profits[i] for i, value in enumerate(permutation) if value == 1])\n",
    "        weight = sum([self.weights[i] for i, value in enumerate(permutation) if value == 1])\n",
    "        if profit > best_profit and weight <= self.capacity:\n",
    "          best_permutation = permutation\n",
    "          best_profit = profit\n",
    "          best_weight = weight\n",
    "    return best_permutation, best_profit, best_weight\n",
    "\n",
    "  def solve_knapsack_pw_ratio(self):\n",
    "    items = [0 for _ in range(len(weights))]\n",
    "    profit, weight = 0, 0\n",
    "    ratios = sorted([(i, item[0]/item[1]) for i, item in enumerate(zip(self.profits, self.weights))], key=lambda x: x[1], reverse=True)\n",
    "    for i, _ in ratios:\n",
    "      if weight + weights[i] < self.capacity:\n",
    "        weight += weights[i]\n",
    "        profit += profits[i]\n",
    "        items[i] = 1\n",
    "\n",
    "    return items, profit, weight"
   ],
   "outputs": [],
   "execution_count": 4,
   "metadata": {
    "id": "s5J82x9WuSOh",
    "ExecuteTime": {
     "end_time": "2023-10-12T07:05:59.045874292Z",
     "start_time": "2023-10-12T07:05:59.040555655Z"
    }
   }
  },
  {
   "cell_type": "code",
   "execution_count": 5,
   "outputs": [],
   "source": [
    "sack = KnapSack(profits, weights, capacity)"
   ],
   "metadata": {
    "collapsed": false,
    "ExecuteTime": {
     "end_time": "2023-10-12T07:05:59.046153912Z",
     "start_time": "2023-10-12T07:05:59.043208545Z"
    }
   }
  },
  {
   "cell_type": "code",
   "execution_count": 6,
   "outputs": [],
   "source": [
    "permutation, profit, weight = sack.solve_knapsack_brute_force()"
   ],
   "metadata": {
    "collapsed": false,
    "ExecuteTime": {
     "end_time": "2023-10-12T07:05:59.088589988Z",
     "start_time": "2023-10-12T07:05:59.088286004Z"
    }
   }
  },
  {
   "cell_type": "code",
   "execution_count": 7,
   "outputs": [
    {
     "name": "stdout",
     "output_type": "stream",
     "text": [
      "(0, 1, 1, 0)\n",
      "17\n",
      "8\n"
     ]
    }
   ],
   "source": [
    "print(permutation)\n",
    "print(profit)\n",
    "print(weight)"
   ],
   "metadata": {
    "collapsed": false,
    "ExecuteTime": {
     "end_time": "2023-10-12T07:05:59.088962175Z",
     "start_time": "2023-10-12T07:05:59.088514017Z"
    }
   }
  },
  {
   "cell_type": "code",
   "execution_count": 8,
   "outputs": [],
   "source": [
    "permutation, profit, weight = sack.solve_knapsack_pw_ratio()"
   ],
   "metadata": {
    "collapsed": false,
    "ExecuteTime": {
     "end_time": "2023-10-12T07:05:59.089495216Z",
     "start_time": "2023-10-12T07:05:59.088718485Z"
    }
   }
  },
  {
   "cell_type": "code",
   "execution_count": 9,
   "outputs": [
    {
     "name": "stdout",
     "output_type": "stream",
     "text": [
      "[0, 1, 0, 1]\n",
      "14\n",
      "5\n"
     ]
    }
   ],
   "source": [
    "print(permutation)\n",
    "print(profit)\n",
    "print(weight)"
   ],
   "metadata": {
    "collapsed": false,
    "ExecuteTime": {
     "end_time": "2023-10-12T07:05:59.089981409Z",
     "start_time": "2023-10-12T07:05:59.088865238Z"
    }
   }
  },
  {
   "cell_type": "code",
   "execution_count": 10,
   "outputs": [
    {
     "name": "stdout",
     "output_type": "stream",
     "text": [
      "Elements: 5\tExecuted in: 7.571999999989032e-05 [s]\n",
      "Elements: 6\tExecuted in: 0.00014214900000020236 [s]\n",
      "Elements: 7\tExecuted in: 0.00030412199999996226 [s]\n",
      "Elements: 8\tExecuted in: 0.0006497850000000138 [s]\n",
      "Elements: 9\tExecuted in: 0.0013916429999998314 [s]\n",
      "Elements: 10\tExecuted in: 0.0028960000000000097 [s]\n",
      "Elements: 11\tExecuted in: 0.006091877999999884 [s]\n",
      "Elements: 12\tExecuted in: 0.012576786999999978 [s]\n",
      "Elements: 13\tExecuted in: 0.027501060000000077 [s]\n",
      "Elements: 14\tExecuted in: 0.05863864399999996 [s]\n",
      "Elements: 15\tExecuted in: 0.12189208299999987 [s]\n",
      "Elements: 16\tExecuted in: 0.24974676899999992 [s]\n",
      "Elements: 17\tExecuted in: 0.5178853769999998 [s]\n",
      "Elements: 18\tExecuted in: 1.0693024739999997 [s]\n",
      "Elements: 19\tExecuted in: 2.2339061860000005 [s]\n"
     ]
    }
   ],
   "source": [
    "weights = np.array([8, 3, 5, 2])\n",
    "capacity = 9\n",
    "profits = np.array([16, 8, 9, 6])\n",
    "\n",
    "execution_times = []\n",
    "number_of_elements = []\n",
    "\n",
    "additional_elements = 15\n",
    "\n",
    "for _ in range(additional_elements):\n",
    "  weights = np.append(weights, randint(0, 20))\n",
    "  profits = np.append(profits, randint(0, 20))\n",
    "  sack = KnapSack(profits, weights, capacity)\n",
    "  start_time = time.process_time()\n",
    "  sack.solve_knapsack_brute_force()\n",
    "  end_time = time.process_time()\n",
    "  execution_time = end_time - start_time\n",
    "  print(f\"Elements: {len(weights)}\\tExecuted in: {execution_time} [s]\")\n",
    "  execution_times.append(execution_time)\n",
    "  number_of_elements.append(len(weights))"
   ],
   "metadata": {
    "collapsed": false,
    "ExecuteTime": {
     "end_time": "2023-10-12T07:06:03.372560168Z",
     "start_time": "2023-10-12T07:05:59.089033469Z"
    }
   }
  },
  {
   "cell_type": "code",
   "execution_count": 11,
   "outputs": [
    {
     "data": {
      "text/plain": "Text(0.5, 1.0, 'Brute force algorithm Time vs Elements')"
     },
     "execution_count": 11,
     "metadata": {},
     "output_type": "execute_result"
    },
    {
     "data": {
      "text/plain": "<Figure size 640x480 with 1 Axes>",
      "image/png": "[encoded data removed]"
     },
     "metadata": {},
     "output_type": "display_data"
    }
   ],
   "source": [
    "plt.plot(number_of_elements, execution_times)\n",
    "plt.grid()\n",
    "plt.ylabel(\"Execution time [s]\")\n",
    "plt.xlabel(\"Number of available items\")\n",
    "plt.title(\"Brute force algorithm Time vs Elements\")"
   ],
   "metadata": {
    "collapsed": false,
    "ExecuteTime": {
     "end_time": "2023-10-12T07:06:03.557109993Z",
     "start_time": "2023-10-12T07:06:03.369036176Z"
    }
   }
  }
 ],
 "metadata": {
  "colab": {
   "provenance": []
  },
  "kernelspec": {
   "name": "python3",
   "language": "python",
   "display_name": "Python 3 (ipykernel)"
  },
  "language_info": {
   "name": "python"
  },
  "accelerator": "GPU",
  "nteract": {
   "version": "nteract-front-end@1.0.0"
  }
 },
 "nbformat": 4,
 "nbformat_minor": 0
}
